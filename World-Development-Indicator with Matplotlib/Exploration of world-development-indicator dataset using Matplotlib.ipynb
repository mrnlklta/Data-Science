{
 "cells": [
  {
   "cell_type": "markdown",
   "metadata": {},
   "source": [
    "# Exploration of world-development-indicator dataset using Matplotlib:"
   ]
  },
  {
   "cell_type": "markdown",
   "metadata": {},
   "source": [
    "### Initial exploration of the Dataset"
   ]
  },
  {
   "cell_type": "markdown",
   "metadata": {},
   "source": [
    "Data Source: https://www.kaggle.com/worldbank/world-development-indicators <br> Folder: 'world-development-indicators'"
   ]
  },
  {
   "cell_type": "code",
   "execution_count": 1,
   "metadata": {
    "collapsed": true
   },
   "outputs": [],
   "source": [
    "import pandas as pd\n",
    "import numpy as np\n",
    "import random\n",
    "import matplotlib.pyplot as plt"
   ]
  },
  {
   "cell_type": "code",
   "execution_count": 2,
   "metadata": {},
   "outputs": [
    {
     "data": {
      "text/plain": [
       "(5656458, 6)"
      ]
     },
     "execution_count": 2,
     "metadata": {},
     "output_type": "execute_result"
    }
   ],
   "source": [
    "data = pd.read_csv('./world-development-indicators/Indicators.csv')\n",
    "data.shape\n",
    "#data.head()"
   ]
  },
  {
   "cell_type": "code",
   "execution_count": 3,
   "metadata": {},
   "outputs": [
    {
     "name": "stdout",
     "output_type": "stream",
     "text": [
      "247\n",
      "1344\n"
     ]
    }
   ],
   "source": [
    "#Total number of countries\n",
    "print(len(data['CountryCode'].unique()))\n",
    "\n",
    "#Total number of indicators\n",
    "print(len(data['IndicatorCode'].unique()))"
   ]
  },
  {
   "cell_type": "code",
   "execution_count": 4,
   "metadata": {},
   "outputs": [
    {
     "name": "stdout",
     "output_type": "stream",
     "text": [
      "56\n",
      "1960\n",
      "2015\n"
     ]
    }
   ],
   "source": [
    "#Getting Total number of 'Year'\n",
    "print(len(data['Year'].unique()))\n",
    "\n",
    "#Getting minimum 'Year' value\n",
    "print(min(data['Year']))\n",
    "\n",
    "#Getting maximum 'Year' value\n",
    "print(max(data['Year']))"
   ]
  },
  {
   "cell_type": "markdown",
   "metadata": {},
   "source": [
    "## Basic Plotting:"
   ]
  },
  {
   "cell_type": "code",
   "execution_count": 5,
   "metadata": {},
   "outputs": [
    {
     "data": {
      "text/html": [
       "<div>\n",
       "<style>\n",
       "    .dataframe thead tr:only-child th {\n",
       "        text-align: right;\n",
       "    }\n",
       "\n",
       "    .dataframe thead th {\n",
       "        text-align: left;\n",
       "    }\n",
       "\n",
       "    .dataframe tbody tr th {\n",
       "        vertical-align: top;\n",
       "    }\n",
       "</style>\n",
       "<table border=\"1\" class=\"dataframe\">\n",
       "  <thead>\n",
       "    <tr style=\"text-align: right;\">\n",
       "      <th></th>\n",
       "      <th>CountryName</th>\n",
       "      <th>CountryCode</th>\n",
       "      <th>IndicatorName</th>\n",
       "      <th>IndicatorCode</th>\n",
       "      <th>Year</th>\n",
       "      <th>Value</th>\n",
       "    </tr>\n",
       "  </thead>\n",
       "  <tbody>\n",
       "    <tr>\n",
       "      <th>4386994</th>\n",
       "      <td>India</td>\n",
       "      <td>IND</td>\n",
       "      <td>CO2 emissions (metric tons per capita)</td>\n",
       "      <td>EN.ATM.CO2E.PC</td>\n",
       "      <td>2007</td>\n",
       "      <td>1.365787</td>\n",
       "    </tr>\n",
       "    <tr>\n",
       "      <th>4567309</th>\n",
       "      <td>India</td>\n",
       "      <td>IND</td>\n",
       "      <td>CO2 emissions (metric tons per capita)</td>\n",
       "      <td>EN.ATM.CO2E.PC</td>\n",
       "      <td>2008</td>\n",
       "      <td>1.497886</td>\n",
       "    </tr>\n",
       "    <tr>\n",
       "      <th>4746431</th>\n",
       "      <td>India</td>\n",
       "      <td>IND</td>\n",
       "      <td>CO2 emissions (metric tons per capita)</td>\n",
       "      <td>EN.ATM.CO2E.PC</td>\n",
       "      <td>2009</td>\n",
       "      <td>1.619049</td>\n",
       "    </tr>\n",
       "    <tr>\n",
       "      <th>4929232</th>\n",
       "      <td>India</td>\n",
       "      <td>IND</td>\n",
       "      <td>CO2 emissions (metric tons per capita)</td>\n",
       "      <td>EN.ATM.CO2E.PC</td>\n",
       "      <td>2010</td>\n",
       "      <td>1.584870</td>\n",
       "    </tr>\n",
       "    <tr>\n",
       "      <th>5111048</th>\n",
       "      <td>India</td>\n",
       "      <td>IND</td>\n",
       "      <td>CO2 emissions (metric tons per capita)</td>\n",
       "      <td>EN.ATM.CO2E.PC</td>\n",
       "      <td>2011</td>\n",
       "      <td>1.662873</td>\n",
       "    </tr>\n",
       "  </tbody>\n",
       "</table>\n",
       "</div>"
      ],
      "text/plain": [
       "        CountryName CountryCode                           IndicatorName  \\\n",
       "4386994       India         IND  CO2 emissions (metric tons per capita)   \n",
       "4567309       India         IND  CO2 emissions (metric tons per capita)   \n",
       "4746431       India         IND  CO2 emissions (metric tons per capita)   \n",
       "4929232       India         IND  CO2 emissions (metric tons per capita)   \n",
       "5111048       India         IND  CO2 emissions (metric tons per capita)   \n",
       "\n",
       "          IndicatorCode  Year     Value  \n",
       "4386994  EN.ATM.CO2E.PC  2007  1.365787  \n",
       "4567309  EN.ATM.CO2E.PC  2008  1.497886  \n",
       "4746431  EN.ATM.CO2E.PC  2009  1.619049  \n",
       "4929232  EN.ATM.CO2E.PC  2010  1.584870  \n",
       "5111048  EN.ATM.CO2E.PC  2011  1.662873  "
      ]
     },
     "execution_count": 5,
     "metadata": {},
     "output_type": "execute_result"
    }
   ],
   "source": [
    "#Creating mask for country 'IND'. Returns a boolean series.\n",
    "mask_country=data['CountryCode']=='IND'\n",
    "\n",
    "#Creating mask for Indicator 'CO2 emissions (metric tons per capita)'. Returns a boolean series.\n",
    "mask_indicator=data['IndicatorName'].str.contains('CO2 emissions \\(metric')\n",
    "\n",
    "stage = data[(mask_country) & (mask_indicator)]\n",
    "stage.tail()\n",
    "#len(stage)  #Will give number of records 'stage' has"
   ]
  },
  {
   "cell_type": "markdown",
   "metadata": {},
   "source": [
    "### Bar Plot"
   ]
  },
  {
   "cell_type": "code",
   "execution_count": 7,
   "metadata": {},
   "outputs": [
    {
     "data": {
      "image/png": "[encoded data removed]",
      "text/plain": [
       "<matplotlib.figure.Figure at 0xa32d780>"
      ]
     },
     "metadata": {},
     "output_type": "display_data"
    }
   ],
   "source": [
    "years=stage['Year'].values  #.values will convert the pandas series to numpy array\n",
    "value=stage['Value'].values  #.values will convert the pandas series to numpy array\n",
    "\n",
    "#Label the axes\n",
    "plt.xlabel('Year')\n",
    "plt.ylabel(stage.iloc[0]['IndicatorName']) #plt.ylabel(stage['IndicatorName'].iloc[0]) will also result the same.\n",
    "\n",
    "#Giving title \"'IndicatorName' for 'CountryName'\"\n",
    "plt.title(stage.iloc[0]['IndicatorName']+' for '+stage.iloc[0]['CountryName'])\n",
    "\n",
    "#Plotting/Creating the bar chart.\n",
    "plt.bar(years,value)\n",
    "plt.show()"
   ]
  },
  {
   "cell_type": "markdown",
   "metadata": {},
   "source": [
    "### Line Plot"
   ]
  },
  {
   "cell_type": "code",
   "execution_count": 8,
   "metadata": {},
   "outputs": [
    {
     "data": {
      "image/png": "[encoded data removed]",
      "text/plain": [
       "<matplotlib.figure.Figure at 0xa40af28>"
      ]
     },
     "metadata": {},
     "output_type": "display_data"
    }
   ],
   "source": [
    "years=stage['Year'].values\n",
    "value=stage['Value'].values\n",
    "\n",
    "#Label the axes\n",
    "plt.xlabel('Year')\n",
    "plt.ylabel(stage['IndicatorName'].iloc[0])\n",
    "\n",
    "#Giving title \"IndicatorName for CountryName\"\n",
    "plt.title(stage.iloc[0]['IndicatorName']+' for '+stage.iloc[0]['CountryName'])\n",
    "\n",
    "#Specifying the minimum and maximum axes values\n",
    "plt.axis([1959, 2011, 0, 2])\n",
    "\n",
    "#Creating a Line Plot\n",
    "plt.plot(years, value)\n",
    "plt.show()"
   ]
  },
  {
   "cell_type": "markdown",
   "metadata": {},
   "source": [
    "### Histogram\n",
    "To explore the distribution of values"
   ]
  },
  {
   "cell_type": "code",
   "execution_count": 9,
   "metadata": {},
   "outputs": [
    {
     "data": {
      "text/html": [
       "<div>\n",
       "<style>\n",
       "    .dataframe thead tr:only-child th {\n",
       "        text-align: right;\n",
       "    }\n",
       "\n",
       "    .dataframe thead th {\n",
       "        text-align: left;\n",
       "    }\n",
       "\n",
       "    .dataframe tbody tr th {\n",
       "        vertical-align: top;\n",
       "    }\n",
       "</style>\n",
       "<table border=\"1\" class=\"dataframe\">\n",
       "  <thead>\n",
       "    <tr style=\"text-align: right;\">\n",
       "      <th></th>\n",
       "      <th>CountryName</th>\n",
       "      <th>CountryCode</th>\n",
       "      <th>IndicatorName</th>\n",
       "      <th>IndicatorCode</th>\n",
       "      <th>Year</th>\n",
       "      <th>Value</th>\n",
       "    </tr>\n",
       "  </thead>\n",
       "  <tbody>\n",
       "    <tr>\n",
       "      <th>4386994</th>\n",
       "      <td>India</td>\n",
       "      <td>IND</td>\n",
       "      <td>CO2 emissions (metric tons per capita)</td>\n",
       "      <td>EN.ATM.CO2E.PC</td>\n",
       "      <td>2007</td>\n",
       "      <td>1.365787</td>\n",
       "    </tr>\n",
       "    <tr>\n",
       "      <th>4567309</th>\n",
       "      <td>India</td>\n",
       "      <td>IND</td>\n",
       "      <td>CO2 emissions (metric tons per capita)</td>\n",
       "      <td>EN.ATM.CO2E.PC</td>\n",
       "      <td>2008</td>\n",
       "      <td>1.497886</td>\n",
       "    </tr>\n",
       "    <tr>\n",
       "      <th>4746431</th>\n",
       "      <td>India</td>\n",
       "      <td>IND</td>\n",
       "      <td>CO2 emissions (metric tons per capita)</td>\n",
       "      <td>EN.ATM.CO2E.PC</td>\n",
       "      <td>2009</td>\n",
       "      <td>1.619049</td>\n",
       "    </tr>\n",
       "    <tr>\n",
       "      <th>4929232</th>\n",
       "      <td>India</td>\n",
       "      <td>IND</td>\n",
       "      <td>CO2 emissions (metric tons per capita)</td>\n",
       "      <td>EN.ATM.CO2E.PC</td>\n",
       "      <td>2010</td>\n",
       "      <td>1.584870</td>\n",
       "    </tr>\n",
       "    <tr>\n",
       "      <th>5111048</th>\n",
       "      <td>India</td>\n",
       "      <td>IND</td>\n",
       "      <td>CO2 emissions (metric tons per capita)</td>\n",
       "      <td>EN.ATM.CO2E.PC</td>\n",
       "      <td>2011</td>\n",
       "      <td>1.662873</td>\n",
       "    </tr>\n",
       "  </tbody>\n",
       "</table>\n",
       "</div>"
      ],
      "text/plain": [
       "        CountryName CountryCode                           IndicatorName  \\\n",
       "4386994       India         IND  CO2 emissions (metric tons per capita)   \n",
       "4567309       India         IND  CO2 emissions (metric tons per capita)   \n",
       "4746431       India         IND  CO2 emissions (metric tons per capita)   \n",
       "4929232       India         IND  CO2 emissions (metric tons per capita)   \n",
       "5111048       India         IND  CO2 emissions (metric tons per capita)   \n",
       "\n",
       "          IndicatorCode  Year     Value  \n",
       "4386994  EN.ATM.CO2E.PC  2007  1.365787  \n",
       "4567309  EN.ATM.CO2E.PC  2008  1.497886  \n",
       "4746431  EN.ATM.CO2E.PC  2009  1.619049  \n",
       "4929232  EN.ATM.CO2E.PC  2010  1.584870  \n",
       "5111048  EN.ATM.CO2E.PC  2011  1.662873  "
      ]
     },
     "execution_count": 9,
     "metadata": {},
     "output_type": "execute_result"
    }
   ],
   "source": [
    "#Sometimes it's helpful with histograms to avoid the data getting too spread out because of outliers.\n",
    "#So if you want to just include those within one standard deviation fo the mean, you could do the following:\n",
    "#lower = stage['Value'].mean() - stage['Value'].std()\n",
    "#upper = stage['Value'].mean() + stage['Value'].std()\n",
    "#hist_data = [x for x in stage[:10000]['Value'] if x>lower and x<upper ]\n",
    "\n",
    "# Otherwise, let's look at all the data\n",
    "hist_data = stage['Value'].values\n",
    "stage.tail()"
   ]
  },
  {
   "cell_type": "code",
   "execution_count": 10,
   "metadata": {
    "scrolled": true
   },
   "outputs": [
    {
     "data": {
      "image/png": "[encoded data removed]",
      "text/plain": [
       "<matplotlib.figure.Figure at 0xa433a20>"
      ]
     },
     "metadata": {},
     "output_type": "display_data"
    }
   ],
   "source": [
    "plt.xlabel(stage['IndicatorName'].iloc[0])\n",
    "plt.ylabel('Number of Years')\n",
    "plt.title('Histogram Example')\n",
    "\n",
    "#To provide grids\n",
    "plt.grid(True)\n",
    "\n",
    "#Plotting histogram\n",
    "plt.hist(hist_data, bins=10, normed=False, facecolor='green')  #normed=False makes sure not to scale the data\n",
    "plt.show()\n",
    "\n",
    "#The diagram tells, India has many years where it produced 0.25-4 metric tons CO2 per capita with outliers."
   ]
  },
  {
   "cell_type": "markdown",
   "metadata": {},
   "source": [
    "## Histogram of the emmissions per capita by country"
   ]
  },
  {
   "cell_type": "code",
   "execution_count": 11,
   "metadata": {},
   "outputs": [
    {
     "data": {
      "text/html": [
       "<div>\n",
       "<style>\n",
       "    .dataframe thead tr:only-child th {\n",
       "        text-align: right;\n",
       "    }\n",
       "\n",
       "    .dataframe thead th {\n",
       "        text-align: left;\n",
       "    }\n",
       "\n",
       "    .dataframe tbody tr th {\n",
       "        vertical-align: top;\n",
       "    }\n",
       "</style>\n",
       "<table border=\"1\" class=\"dataframe\">\n",
       "  <thead>\n",
       "    <tr style=\"text-align: right;\">\n",
       "      <th></th>\n",
       "      <th>CountryName</th>\n",
       "      <th>CountryCode</th>\n",
       "      <th>IndicatorName</th>\n",
       "      <th>IndicatorCode</th>\n",
       "      <th>Year</th>\n",
       "      <th>Value</th>\n",
       "    </tr>\n",
       "  </thead>\n",
       "  <tbody>\n",
       "    <tr>\n",
       "      <th>5026275</th>\n",
       "      <td>Arab World</td>\n",
       "      <td>ARB</td>\n",
       "      <td>CO2 emissions (metric tons per capita)</td>\n",
       "      <td>EN.ATM.CO2E.PC</td>\n",
       "      <td>2011</td>\n",
       "      <td>4.724500</td>\n",
       "    </tr>\n",
       "    <tr>\n",
       "      <th>5026788</th>\n",
       "      <td>Caribbean small states</td>\n",
       "      <td>CSS</td>\n",
       "      <td>CO2 emissions (metric tons per capita)</td>\n",
       "      <td>EN.ATM.CO2E.PC</td>\n",
       "      <td>2011</td>\n",
       "      <td>9.692960</td>\n",
       "    </tr>\n",
       "    <tr>\n",
       "      <th>5027295</th>\n",
       "      <td>Central Europe and the Baltics</td>\n",
       "      <td>CEB</td>\n",
       "      <td>CO2 emissions (metric tons per capita)</td>\n",
       "      <td>EN.ATM.CO2E.PC</td>\n",
       "      <td>2011</td>\n",
       "      <td>6.911131</td>\n",
       "    </tr>\n",
       "    <tr>\n",
       "      <th>5027870</th>\n",
       "      <td>East Asia &amp; Pacific (all income levels)</td>\n",
       "      <td>EAS</td>\n",
       "      <td>CO2 emissions (metric tons per capita)</td>\n",
       "      <td>EN.ATM.CO2E.PC</td>\n",
       "      <td>2011</td>\n",
       "      <td>5.859548</td>\n",
       "    </tr>\n",
       "    <tr>\n",
       "      <th>5028456</th>\n",
       "      <td>East Asia &amp; Pacific (developing only)</td>\n",
       "      <td>EAP</td>\n",
       "      <td>CO2 emissions (metric tons per capita)</td>\n",
       "      <td>EN.ATM.CO2E.PC</td>\n",
       "      <td>2011</td>\n",
       "      <td>5.302499</td>\n",
       "    </tr>\n",
       "  </tbody>\n",
       "</table>\n",
       "</div>"
      ],
      "text/plain": [
       "                                     CountryName CountryCode  \\\n",
       "5026275                               Arab World         ARB   \n",
       "5026788                   Caribbean small states         CSS   \n",
       "5027295           Central Europe and the Baltics         CEB   \n",
       "5027870  East Asia & Pacific (all income levels)         EAS   \n",
       "5028456    East Asia & Pacific (developing only)         EAP   \n",
       "\n",
       "                                  IndicatorName   IndicatorCode  Year  \\\n",
       "5026275  CO2 emissions (metric tons per capita)  EN.ATM.CO2E.PC  2011   \n",
       "5026788  CO2 emissions (metric tons per capita)  EN.ATM.CO2E.PC  2011   \n",
       "5027295  CO2 emissions (metric tons per capita)  EN.ATM.CO2E.PC  2011   \n",
       "5027870  CO2 emissions (metric tons per capita)  EN.ATM.CO2E.PC  2011   \n",
       "5028456  CO2 emissions (metric tons per capita)  EN.ATM.CO2E.PC  2011   \n",
       "\n",
       "            Value  \n",
       "5026275  4.724500  \n",
       "5026788  9.692960  \n",
       "5027295  6.911131  \n",
       "5027870  5.859548  \n",
       "5028456  5.302499  "
      ]
     },
     "execution_count": 11,
     "metadata": {},
     "output_type": "execute_result"
    }
   ],
   "source": [
    "#Creating mask for Indicator 'CO2 emissions (metric tons per capita)'\n",
    "mask_indicator2 = data['IndicatorName'].str.contains('CO2 emissions \\(metric')\n",
    "#Creating mask for a specific year\n",
    "mask_year = data['Year']==2011\n",
    "\n",
    "# apply our mask\n",
    "co2_2011 = data[(mask_indicator2) & (mask_year)]\n",
    "co2_2011.head()\n",
    "\n",
    "#len(co2_2011)  #To get number of records co2_2011 has"
   ]
  },
  {
   "cell_type": "code",
   "execution_count": 12,
   "metadata": {},
   "outputs": [
    {
     "data": {
      "image/png": "[encoded data removed]",
      "text/plain": [
       "<matplotlib.figure.Figure at 0xa4d4208>"
      ]
     },
     "metadata": {},
     "output_type": "display_data"
    }
   ],
   "source": [
    "hist_data = co2_2011['Value'].values\n",
    "\n",
    "#subplots returns a tuple with the figure, axis attributes.\n",
    "fig, ax = plt.subplots()\n",
    "\n",
    "ax.annotate(\"USA\", #Text which will be printed in the plot\n",
    "            xytext=(18, 30), textcoords='data', #Co-ordinate where the text will be located\n",
    "            xy=(18, 5), xycoords='data', #Co-ordinate to where the arrow mark will point\n",
    "            arrowprops=dict(arrowstyle=\"->\", connectionstyle=\"arc3\"),\n",
    "            )\n",
    "\n",
    "ax.annotate(\"India\", #Text which will be printed in the plot\n",
    "            xytext=(8, 130), textcoords='data', #Co-ordinate where the text will be located\n",
    "            xy=(4, 120), xycoords='data', #Co-ordinate to where the arrow mark will point\n",
    "            arrowprops=dict(arrowstyle=\"->\", connectionstyle=\"arc3\"),\n",
    "            )\n",
    "\n",
    "plt.xlabel(data['IndicatorName'].iloc[0])\n",
    "plt.ylabel('Number of Countries')\n",
    "plt.title('Histogram of CO2 Emissions Per Capita')\n",
    "plt.grid(True)\n",
    "#plt.axis([-1, 50, 0, 140])\n",
    "\n",
    "plt.hist(hist_data, bins=10, normed=False, facecolor='green')\n",
    "plt.show()"
   ]
  },
  {
   "cell_type": "markdown",
   "metadata": {},
   "source": [
    "## GDP of countries who has highest CO2 emission levels:"
   ]
  },
  {
   "cell_type": "code",
   "execution_count": 13,
   "metadata": {
    "collapsed": true
   },
   "outputs": [],
   "source": [
    "mask1=data['Year']==2011\n",
    "mask2=data['IndicatorName'].str.contains('GDP per capita \\(current US')\n",
    "mask3=data['IndicatorName'].str.contains('CO2 emissions \\(metric')\n",
    "mask4=data['Value']>25"
   ]
  },
  {
   "cell_type": "code",
   "execution_count": 14,
   "metadata": {},
   "outputs": [
    {
     "data": {
      "text/html": [
       "<div>\n",
       "<style>\n",
       "    .dataframe thead tr:only-child th {\n",
       "        text-align: right;\n",
       "    }\n",
       "\n",
       "    .dataframe thead th {\n",
       "        text-align: left;\n",
       "    }\n",
       "\n",
       "    .dataframe tbody tr th {\n",
       "        vertical-align: top;\n",
       "    }\n",
       "</style>\n",
       "<table border=\"1\" class=\"dataframe\">\n",
       "  <thead>\n",
       "    <tr style=\"text-align: right;\">\n",
       "      <th></th>\n",
       "      <th>CountryName</th>\n",
       "      <th>CountryCode</th>\n",
       "      <th>IndicatorName</th>\n",
       "      <th>IndicatorCode</th>\n",
       "      <th>Year</th>\n",
       "      <th>Value</th>\n",
       "    </tr>\n",
       "  </thead>\n",
       "  <tbody>\n",
       "    <tr>\n",
       "      <th>5026275</th>\n",
       "      <td>Arab World</td>\n",
       "      <td>ARB</td>\n",
       "      <td>CO2 emissions (metric tons per capita)</td>\n",
       "      <td>EN.ATM.CO2E.PC</td>\n",
       "      <td>2011</td>\n",
       "      <td>4.724500</td>\n",
       "    </tr>\n",
       "    <tr>\n",
       "      <th>5026389</th>\n",
       "      <td>Arab World</td>\n",
       "      <td>ARB</td>\n",
       "      <td>GDP per capita (current US$)</td>\n",
       "      <td>NY.GDP.PCAP.CD</td>\n",
       "      <td>2011</td>\n",
       "      <td>6911.566859</td>\n",
       "    </tr>\n",
       "    <tr>\n",
       "      <th>5026788</th>\n",
       "      <td>Caribbean small states</td>\n",
       "      <td>CSS</td>\n",
       "      <td>CO2 emissions (metric tons per capita)</td>\n",
       "      <td>EN.ATM.CO2E.PC</td>\n",
       "      <td>2011</td>\n",
       "      <td>9.692960</td>\n",
       "    </tr>\n",
       "    <tr>\n",
       "      <th>5026884</th>\n",
       "      <td>Caribbean small states</td>\n",
       "      <td>CSS</td>\n",
       "      <td>GDP per capita (current US$)</td>\n",
       "      <td>NY.GDP.PCAP.CD</td>\n",
       "      <td>2011</td>\n",
       "      <td>9373.261220</td>\n",
       "    </tr>\n",
       "    <tr>\n",
       "      <th>5027295</th>\n",
       "      <td>Central Europe and the Baltics</td>\n",
       "      <td>CEB</td>\n",
       "      <td>CO2 emissions (metric tons per capita)</td>\n",
       "      <td>EN.ATM.CO2E.PC</td>\n",
       "      <td>2011</td>\n",
       "      <td>6.911131</td>\n",
       "    </tr>\n",
       "  </tbody>\n",
       "</table>\n",
       "</div>"
      ],
      "text/plain": [
       "                            CountryName CountryCode  \\\n",
       "5026275                      Arab World         ARB   \n",
       "5026389                      Arab World         ARB   \n",
       "5026788          Caribbean small states         CSS   \n",
       "5026884          Caribbean small states         CSS   \n",
       "5027295  Central Europe and the Baltics         CEB   \n",
       "\n",
       "                                  IndicatorName   IndicatorCode  Year  \\\n",
       "5026275  CO2 emissions (metric tons per capita)  EN.ATM.CO2E.PC  2011   \n",
       "5026389            GDP per capita (current US$)  NY.GDP.PCAP.CD  2011   \n",
       "5026788  CO2 emissions (metric tons per capita)  EN.ATM.CO2E.PC  2011   \n",
       "5026884            GDP per capita (current US$)  NY.GDP.PCAP.CD  2011   \n",
       "5027295  CO2 emissions (metric tons per capita)  EN.ATM.CO2E.PC  2011   \n",
       "\n",
       "               Value  \n",
       "5026275     4.724500  \n",
       "5026389  6911.566859  \n",
       "5026788     9.692960  \n",
       "5026884  9373.261220  \n",
       "5027295     6.911131  "
      ]
     },
     "execution_count": 14,
     "metadata": {},
     "output_type": "execute_result"
    }
   ],
   "source": [
    "data[mask1 & (mask2 | mask3)].head()"
   ]
  },
  {
   "cell_type": "code",
   "execution_count": 15,
   "metadata": {},
   "outputs": [
    {
     "name": "stdout",
     "output_type": "stream",
     "text": [
      "        CountryName CountryCode                 IndicatorName   IndicatorCode  \\\n",
      "5123016      Kuwait         KWT  GDP per capita (current US$)  NY.GDP.PCAP.CD   \n",
      "\n",
      "         Year         Value  \n",
      "5123016  2011  47551.382967  \n",
      "        CountryName CountryCode                 IndicatorName   IndicatorCode  \\\n",
      "5161615       Qatar         QAT  GDP per capita (current US$)  NY.GDP.PCAP.CD   \n",
      "\n",
      "         Year         Value  \n",
      "5161615  2011  89115.901491  \n",
      "                 CountryName CountryCode                 IndicatorName  \\\n",
      "5188248  Trinidad and Tobago         TTO  GDP per capita (current US$)   \n",
      "\n",
      "          IndicatorCode  Year         Value  \n",
      "5188248  NY.GDP.PCAP.CD  2011  18287.402474  \n"
     ]
    }
   ],
   "source": [
    "val1=data[mask1 & (mask2 | mask3) & (mask3 & mask4)]['CountryCode'].values\n",
    "for i in val1:\n",
    "    val2=data[(data['CountryCode']==i) & mask1 & mask2]\n",
    "    print(val2)"
   ]
  },
  {
   "cell_type": "markdown",
   "metadata": {},
   "source": [
    "## Relationship between GDP and CO2 Emissions in India"
   ]
  },
  {
   "cell_type": "code",
   "execution_count": 17,
   "metadata": {
    "collapsed": true
   },
   "outputs": [],
   "source": [
    "#Creating masks for country 'India' and indicator 'CO2 emissions (metric tons per capita)'\n",
    "mask_country1=data['CountryCode']=='IND'\n",
    "mask_indicator1=data['IndicatorName'].str.contains('CO2 emissions \\(metric')\n",
    "\n",
    "#Creating masks for country 'India' and indicator 'GDP per capita (constant 2005 US$)'\n",
    "mask_country2 = data['CountryCode'].str.contains('IND')\n",
    "mask_indicator2 = data['IndicatorName'].str.contains('GDP per capita \\(constant 2005') \n",
    "\n",
    "#Create a staging dataframe for records of CO2 emissions for India\n",
    "co2_stage = data[(mask_country1) & (mask_indicator1)]\n",
    "#Create a staging dataframe for records of GDP per capita for India\n",
    "gdp_stage = data[mask_indicator2 & mask_country2]"
   ]
  },
  {
   "cell_type": "code",
   "execution_count": 18,
   "metadata": {},
   "outputs": [
    {
     "data": {
      "text/html": [
       "<div>\n",
       "<style>\n",
       "    .dataframe thead tr:only-child th {\n",
       "        text-align: right;\n",
       "    }\n",
       "\n",
       "    .dataframe thead th {\n",
       "        text-align: left;\n",
       "    }\n",
       "\n",
       "    .dataframe tbody tr th {\n",
       "        vertical-align: top;\n",
       "    }\n",
       "</style>\n",
       "<table border=\"1\" class=\"dataframe\">\n",
       "  <thead>\n",
       "    <tr style=\"text-align: right;\">\n",
       "      <th></th>\n",
       "      <th>CountryName</th>\n",
       "      <th>CountryCode</th>\n",
       "      <th>IndicatorName</th>\n",
       "      <th>IndicatorCode</th>\n",
       "      <th>Year</th>\n",
       "      <th>Value</th>\n",
       "    </tr>\n",
       "  </thead>\n",
       "  <tbody>\n",
       "    <tr>\n",
       "      <th>11616</th>\n",
       "      <td>India</td>\n",
       "      <td>IND</td>\n",
       "      <td>GDP per capita (constant 2005 US$)</td>\n",
       "      <td>NY.GDP.PCAP.KD</td>\n",
       "      <td>1960</td>\n",
       "      <td>228.304470</td>\n",
       "    </tr>\n",
       "    <tr>\n",
       "      <th>36555</th>\n",
       "      <td>India</td>\n",
       "      <td>IND</td>\n",
       "      <td>GDP per capita (constant 2005 US$)</td>\n",
       "      <td>NY.GDP.PCAP.KD</td>\n",
       "      <td>1961</td>\n",
       "      <td>232.142053</td>\n",
       "    </tr>\n",
       "  </tbody>\n",
       "</table>\n",
       "</div>"
      ],
      "text/plain": [
       "      CountryName CountryCode                       IndicatorName  \\\n",
       "11616       India         IND  GDP per capita (constant 2005 US$)   \n",
       "36555       India         IND  GDP per capita (constant 2005 US$)   \n",
       "\n",
       "        IndicatorCode  Year       Value  \n",
       "11616  NY.GDP.PCAP.KD  1960  228.304470  \n",
       "36555  NY.GDP.PCAP.KD  1961  232.142053  "
      ]
     },
     "execution_count": 18,
     "metadata": {},
     "output_type": "execute_result"
    }
   ],
   "source": [
    "gdp_stage.head(2)"
   ]
  },
  {
   "cell_type": "code",
   "execution_count": 19,
   "metadata": {},
   "outputs": [
    {
     "data": {
      "text/html": [
       "<div>\n",
       "<style>\n",
       "    .dataframe thead tr:only-child th {\n",
       "        text-align: right;\n",
       "    }\n",
       "\n",
       "    .dataframe thead th {\n",
       "        text-align: left;\n",
       "    }\n",
       "\n",
       "    .dataframe tbody tr th {\n",
       "        vertical-align: top;\n",
       "    }\n",
       "</style>\n",
       "<table border=\"1\" class=\"dataframe\">\n",
       "  <thead>\n",
       "    <tr style=\"text-align: right;\">\n",
       "      <th></th>\n",
       "      <th>CountryName</th>\n",
       "      <th>CountryCode</th>\n",
       "      <th>IndicatorName</th>\n",
       "      <th>IndicatorCode</th>\n",
       "      <th>Year</th>\n",
       "      <th>Value</th>\n",
       "    </tr>\n",
       "  </thead>\n",
       "  <tbody>\n",
       "    <tr>\n",
       "      <th>11577</th>\n",
       "      <td>India</td>\n",
       "      <td>IND</td>\n",
       "      <td>CO2 emissions (metric tons per capita)</td>\n",
       "      <td>EN.ATM.CO2E.PC</td>\n",
       "      <td>1960</td>\n",
       "      <td>0.268161</td>\n",
       "    </tr>\n",
       "    <tr>\n",
       "      <th>36513</th>\n",
       "      <td>India</td>\n",
       "      <td>IND</td>\n",
       "      <td>CO2 emissions (metric tons per capita)</td>\n",
       "      <td>EN.ATM.CO2E.PC</td>\n",
       "      <td>1961</td>\n",
       "      <td>0.284292</td>\n",
       "    </tr>\n",
       "  </tbody>\n",
       "</table>\n",
       "</div>"
      ],
      "text/plain": [
       "      CountryName CountryCode                           IndicatorName  \\\n",
       "11577       India         IND  CO2 emissions (metric tons per capita)   \n",
       "36513       India         IND  CO2 emissions (metric tons per capita)   \n",
       "\n",
       "        IndicatorCode  Year     Value  \n",
       "11577  EN.ATM.CO2E.PC  1960  0.268161  \n",
       "36513  EN.ATM.CO2E.PC  1961  0.284292  "
      ]
     },
     "execution_count": 19,
     "metadata": {},
     "output_type": "execute_result"
    }
   ],
   "source": [
    "co2_stage.head(2)"
   ]
  },
  {
   "cell_type": "code",
   "execution_count": 20,
   "metadata": {},
   "outputs": [
    {
     "data": {
      "image/png": "[encoded data removed]",
      "text/plain": [
       "<matplotlib.figure.Figure at 0x1d4692e8>"
      ]
     },
     "metadata": {},
     "output_type": "display_data"
    }
   ],
   "source": [
    "#Create a line plot for trend of GDP per capita for India\n",
    "\n",
    "plt.xlabel('Year')\n",
    "plt.ylabel(gdp_stage['IndicatorName'].iloc[0])\n",
    "plt.title('GDP Per Capita India')\n",
    "\n",
    "plt.axis([1959, 2015,0,1400])\n",
    "\n",
    "plt.plot(gdp_stage['Year'].values, gdp_stage['Value'].values)\n",
    "plt.show()"
   ]
  },
  {
   "cell_type": "markdown",
   "metadata": {},
   "source": [
    "### ScatterPlot:\n",
    "Scatter plot for comparing GDP against CO2 emissions (per capita)"
   ]
  },
  {
   "cell_type": "code",
   "execution_count": 21,
   "metadata": {},
   "outputs": [
    {
     "name": "stdout",
     "output_type": "stream",
     "text": [
      "GDP Min Year = 1960  max: 2014\n",
      "CO2 Min Year = 1960  max: 2011\n"
     ]
    }
   ],
   "source": [
    "#Scatterplot requires equal length arrays to compare.\n",
    "#To make sure we're looking at the same time frames for GDP per capita and CO2 emissions:\n",
    "\n",
    "print(\"GDP Min Year =\", gdp_stage['Year'].min(), \" max:\", gdp_stage['Year'].max())\n",
    "print(\"CO2 Min Year =\", co2_stage['Year'].min(), \" max:\", co2_stage['Year'].max())"
   ]
  },
  {
   "cell_type": "code",
   "execution_count": 22,
   "metadata": {},
   "outputs": [
    {
     "name": "stdout",
     "output_type": "stream",
     "text": [
      "52\n",
      "52\n"
     ]
    }
   ],
   "source": [
    "#To make sure scatterplot has equal length arrays to compare, we are removing 3 extra years from GDP data:\n",
    "\n",
    "gdp_stage_trunc = gdp_stage[gdp_stage['Year'] < 2012]\n",
    "print(len(gdp_stage_trunc))\n",
    "print(len(co2_stage))"
   ]
  },
  {
   "cell_type": "code",
   "execution_count": 23,
   "metadata": {},
   "outputs": [
    {
     "data": {
      "image/png": "[encoded data removed]",
      "text/plain": [
       "<matplotlib.figure.Figure at 0xa67b4a8>"
      ]
     },
     "metadata": {},
     "output_type": "display_data"
    }
   ],
   "source": [
    "#fig, axis = plt.subplots()\n",
    "#axis.yaxis.grid(True)\n",
    "#axis.set_title('CO2 Emissions vs. GDP \\(per capita\\)',fontsize=10)\n",
    "#axis.set_xlabel(gdp_stage_trunc['IndicatorName'].iloc[0],fontsize=10)\n",
    "#axis.set_ylabel(stage['IndicatorName'].iloc[0],fontsize=10)\n",
    "plt.grid(True)\n",
    "plt.title('CO2 Emissions vs. GDP (per capita)',fontsize=10)\n",
    "plt.xlabel(gdp_stage_trunc.iloc[0]['IndicatorName'],fontsize=10)\n",
    "plt.ylabel(co2_stage.iloc[0]['IndicatorName'],fontsize=10)\n",
    "\n",
    "X = gdp_stage_trunc['Value']\n",
    "Y = stage['Value']\n",
    "\n",
    "#axis.scatter(X, Y)\n",
    "plt.scatter(X,Y)\n",
    "plt.show()"
   ]
  },
  {
   "cell_type": "code",
   "execution_count": 24,
   "metadata": {},
   "outputs": [
    {
     "data": {
      "text/plain": [
       "array([[ 1.        ,  0.96753758],\n",
       "       [ 0.96753758,  1.        ]])"
      ]
     },
     "execution_count": 24,
     "metadata": {},
     "output_type": "execute_result"
    }
   ],
   "source": [
    "#To check the value of correlation coefficient between CO2 emissions and GDP per capita\n",
    "np.corrcoef(gdp_stage_trunc['Value'],co2_stage['Value'])"
   ]
  },
  {
   "cell_type": "markdown",
   "metadata": {},
   "source": [
    "From the scatter plot, we can see that the CO2 emission of India has increased with the increase of GDP per capita. The same can be verified with the correlation coefficient as well."
   ]
  },
  {
   "cell_type": "markdown",
   "metadata": {
    "collapsed": true
   },
   "source": [
    "### Matplotlib Examples Library:\n",
    "http://matplotlib.org/examples/index.html"
   ]
  }
 ],
 "metadata": {
  "kernelspec": {
   "display_name": "Python 3",
   "language": "python",
   "name": "python3"
  },
  "language_info": {
   "codemirror_mode": {
    "name": "ipython",
    "version": 3
   },
   "file_extension": ".py",
   "mimetype": "text/x-python",
   "name": "python",
   "nbconvert_exporter": "python",
   "pygments_lexer": "ipython3",
   "version": "3.6.1"
  }
 },
 "nbformat": 4,
 "nbformat_minor": 2
}
